{
  "metadata": {
    "kernelspec": {
      "language": "python",
      "display_name": "Python 3",
      "name": "python3"
    },
    "language_info": {
      "name": "python",
      "version": "3.10.13",
      "mimetype": "text/x-python",
      "codemirror_mode": {
        "name": "ipython",
        "version": 3
      },
      "pygments_lexer": "ipython3",
      "nbconvert_exporter": "python",
      "file_extension": ".py"
    },
    "kaggle": {
      "accelerator": "none",
      "dataSources": [
        {
          "sourceId": 73291,
          "databundleVersionId": 8930475,
          "sourceType": "competition"
        }
      ],
      "dockerImageVersionId": 30733,
      "isInternetEnabled": true,
      "language": "python",
      "sourceType": "notebook",
      "isGpuEnabled": false
    },
    "colab": {
      "name": "Xgboost_catboost_optuna",
      "provenance": [],
      "include_colab_link": true
    }
  },
  "nbformat_minor": 0,
  "nbformat": 4,
  "cells": [
    {
      "cell_type": "markdown",
      "metadata": {
        "id": "view-in-github",
        "colab_type": "text"
      },
      "source": [
        "<a href=\"https://colab.research.google.com/github/Tirthankar4/Kaggle/blob/main/July_2024_playground.ipynb\" target=\"_parent\"><img src=\"https://colab.research.google.com/assets/colab-badge.svg\" alt=\"Open In Colab\"/></a>"
      ]
    },
    {
      "source": [
        "\n",
        "# IMPORTANT: RUN THIS CELL IN ORDER TO IMPORT YOUR KAGGLE DATA SOURCES\n",
        "# TO THE CORRECT LOCATION (/kaggle/input) IN YOUR NOTEBOOK,\n",
        "# THEN FEEL FREE TO DELETE THIS CELL.\n",
        "# NOTE: THIS NOTEBOOK ENVIRONMENT DIFFERS FROM KAGGLE'S PYTHON\n",
        "# ENVIRONMENT SO THERE MAY BE MISSING LIBRARIES USED BY YOUR\n",
        "# NOTEBOOK.\n",
        "\n",
        "import os\n",
        "import sys\n",
        "from tempfile import NamedTemporaryFile\n",
        "from urllib.request import urlopen\n",
        "from urllib.parse import unquote, urlparse\n",
        "from urllib.error import HTTPError\n",
        "from zipfile import ZipFile\n",
        "import tarfile\n",
        "import shutil\n",
        "\n",
        "CHUNK_SIZE = 40960\n",
        "DATA_SOURCE_MAPPING = 'playground-series-s4e7:https%3A%2F%2Fstorage.googleapis.com%2Fkaggle-competitions-data%2Fkaggle-v2%2F73291%2F8930475%2Fbundle%2Farchive.zip%3FX-Goog-Algorithm%3DGOOG4-RSA-SHA256%26X-Goog-Credential%3Dgcp-kaggle-com%2540kaggle-161607.iam.gserviceaccount.com%252F20240729%252Fauto%252Fstorage%252Fgoog4_request%26X-Goog-Date%3D20240729T110509Z%26X-Goog-Expires%3D259200%26X-Goog-SignedHeaders%3Dhost%26X-Goog-Signature%3Da0510c2357178b7eb8fa8fc2f1d6c35d6df4b7b28be5cd184aad636ab17f0df0f118ca7deeadd4effbf1d6bfa07c1db29d75d87f99244d1f4fb17167960bff5852f7ff6aee3769e9f06ab7b8fdc3339a9df14ac28ccbd164a8f269e50ae02a915f546c0662a02e13215c8b6748f4b9eb592f75fbd0009c3ff94a25a6378a03a73ec544e61cb85ad2c17d714ab9eac733d08b0ed2c1084b83f92e25ae16ae30908b690a648001af6ed1fa8731d1c8700f9fc56e021c94f344634f513c5e20ab7a6da1556e32e8cc17efaeccf38c1dfededba09526efd4032954a6a4e07b0648813d8337862152fa04e3d6dd95bda6935d69e396ece38c14302cd55fbc32dd2050'\n",
        "\n",
        "KAGGLE_INPUT_PATH='/kaggle/input'\n",
        "KAGGLE_WORKING_PATH='/kaggle/working'\n",
        "KAGGLE_SYMLINK='kaggle'\n",
        "\n",
        "!umount /kaggle/input/ 2> /dev/null\n",
        "shutil.rmtree('/kaggle/input', ignore_errors=True)\n",
        "os.makedirs(KAGGLE_INPUT_PATH, 0o777, exist_ok=True)\n",
        "os.makedirs(KAGGLE_WORKING_PATH, 0o777, exist_ok=True)\n",
        "\n",
        "try:\n",
        "  os.symlink(KAGGLE_INPUT_PATH, os.path.join(\"..\", 'input'), target_is_directory=True)\n",
        "except FileExistsError:\n",
        "  pass\n",
        "try:\n",
        "  os.symlink(KAGGLE_WORKING_PATH, os.path.join(\"..\", 'working'), target_is_directory=True)\n",
        "except FileExistsError:\n",
        "  pass\n",
        "\n",
        "for data_source_mapping in DATA_SOURCE_MAPPING.split(','):\n",
        "    directory, download_url_encoded = data_source_mapping.split(':')\n",
        "    download_url = unquote(download_url_encoded)\n",
        "    filename = urlparse(download_url).path\n",
        "    destination_path = os.path.join(KAGGLE_INPUT_PATH, directory)\n",
        "    try:\n",
        "        with urlopen(download_url) as fileres, NamedTemporaryFile() as tfile:\n",
        "            total_length = fileres.headers['content-length']\n",
        "            print(f'Downloading {directory}, {total_length} bytes compressed')\n",
        "            dl = 0\n",
        "            data = fileres.read(CHUNK_SIZE)\n",
        "            while len(data) > 0:\n",
        "                dl += len(data)\n",
        "                tfile.write(data)\n",
        "                done = int(50 * dl / int(total_length))\n",
        "                sys.stdout.write(f\"\\r[{'=' * done}{' ' * (50-done)}] {dl} bytes downloaded\")\n",
        "                sys.stdout.flush()\n",
        "                data = fileres.read(CHUNK_SIZE)\n",
        "            if filename.endswith('.zip'):\n",
        "              with ZipFile(tfile) as zfile:\n",
        "                zfile.extractall(destination_path)\n",
        "            else:\n",
        "              with tarfile.open(tfile.name) as tarfile:\n",
        "                tarfile.extractall(destination_path)\n",
        "            print(f'\\nDownloaded and uncompressed: {directory}')\n",
        "    except HTTPError as e:\n",
        "        print(f'Failed to load (likely expired) {download_url} to path {destination_path}')\n",
        "        continue\n",
        "    except OSError as e:\n",
        "        print(f'Failed to load {download_url} to path {destination_path}')\n",
        "        continue\n",
        "\n",
        "print('Data source import complete.')\n"
      ],
      "metadata": {
        "id": "1yCwtcVbKmyt"
      },
      "cell_type": "code",
      "outputs": [],
      "execution_count": null
    },
    {
      "cell_type": "code",
      "source": [
        "import numpy as np\n",
        "import pandas as pd\n",
        "from sklearn.model_selection import train_test_split\n",
        "from sklearn.preprocessing import LabelEncoder\n",
        "from xgboost import XGBClassifier\n",
        "from sklearn.model_selection import StratifiedKFold\n",
        "from catboost import CatBoostClassifier, Pool\n",
        "#import optuna\n",
        "from sklearn.metrics import roc_auc_score, confusion_matrix, classification_report\n",
        "import warnings\n",
        "import logging\n",
        "\n",
        "warnings.filterwarnings(\"ignore\")\n",
        "optuna.logging.set_verbosity(optuna.logging.CRITICAL)"
      ],
      "metadata": {
        "_uuid": "8f2839f25d086af736a60e9eeb907d3b93b6e0e5",
        "_cell_guid": "b1076dfc-b9ad-4769-8c92-a6c4dae69d19",
        "execution": {
          "iopub.status.busy": "2024-07-22T11:05:05.451586Z",
          "iopub.execute_input": "2024-07-22T11:05:05.451919Z",
          "iopub.status.idle": "2024-07-22T11:05:08.197749Z",
          "shell.execute_reply.started": "2024-07-22T11:05:05.451891Z",
          "shell.execute_reply": "2024-07-22T11:05:08.196826Z"
        },
        "trusted": true,
        "id": "Y_lVYYYoKmyw"
      },
      "execution_count": null,
      "outputs": []
    },
    {
      "cell_type": "code",
      "source": [
        "train = pd.read_csv('../input/playground-series-s4e7/train.csv', index_col = 'id')\n",
        "test = pd.read_csv('../input/playground-series-s4e7/test.csv', index_col = 'id')"
      ],
      "metadata": {
        "execution": {
          "iopub.status.busy": "2024-07-22T11:05:53.50727Z",
          "iopub.execute_input": "2024-07-22T11:05:53.507809Z",
          "iopub.status.idle": "2024-07-22T11:06:14.491453Z",
          "shell.execute_reply.started": "2024-07-22T11:05:53.507756Z",
          "shell.execute_reply": "2024-07-22T11:06:14.490617Z"
        },
        "trusted": true,
        "id": "4X-mg6KPKmyw"
      },
      "execution_count": null,
      "outputs": []
    },
    {
      "cell_type": "code",
      "source": [
        "def converting_datatypes(df):\n",
        "    df = df.copy()\n",
        "    try:\n",
        "        df['Gender'] = df['Gender'].astype('category')\n",
        "        df['Vehicle_Age'] = df['Vehicle_Age'].astype('category')\n",
        "        df['Vehicle_Damage'] = df['Vehicle_Damage'].astype('category')\n",
        "        df['Age'] = df['Age'].astype('int8')\n",
        "        df['Driving_License'] = df['Driving_License'].astype('int8')\n",
        "        df['Region_Code'] = df['Region_Code'].astype('int8')\n",
        "        df['Previously_Insured'] = df['Previously_Insured'].astype('int8')\n",
        "        df['Annual_Premium'] = df['Annual_Premium'].astype('int32')\n",
        "        df['Policy_Sales_Channel'] = df['Policy_Sales_Channel'].astype('int16')\n",
        "        df['Vintage'] = df['Vintage'].astype('int16')\n",
        "        df['Response'] = df['Response'].astype('int8')\n",
        "    except KeyError as e:\n",
        "        print(f\"Error: {e} not found in DataFrame\")\n",
        "    except Exception as e:\n",
        "        print(f\"An error occurred: {e}\")\n",
        "    return df\n",
        "\n",
        "train = converting_datatypes(train)\n",
        "test = converting_datatypes(test)"
      ],
      "metadata": {
        "execution": {
          "iopub.status.busy": "2024-07-22T11:06:16.488079Z",
          "iopub.execute_input": "2024-07-22T11:06:16.488441Z",
          "iopub.status.idle": "2024-07-22T11:06:20.584794Z",
          "shell.execute_reply.started": "2024-07-22T11:06:16.488401Z",
          "shell.execute_reply": "2024-07-22T11:06:20.583816Z"
        },
        "trusted": true,
        "id": "si5JCPYSKmyx"
      },
      "execution_count": null,
      "outputs": []
    },
    {
      "cell_type": "code",
      "source": [
        "y = train.pop('Response')"
      ],
      "metadata": {
        "execution": {
          "iopub.status.busy": "2024-07-22T11:06:47.799292Z",
          "iopub.execute_input": "2024-07-22T11:06:47.799672Z",
          "iopub.status.idle": "2024-07-22T11:06:47.804768Z",
          "shell.execute_reply.started": "2024-07-22T11:06:47.799639Z",
          "shell.execute_reply": "2024-07-22T11:06:47.803839Z"
        },
        "trusted": true,
        "id": "ZQE1dYTiKmyx"
      },
      "execution_count": null,
      "outputs": []
    },
    {
      "cell_type": "code",
      "source": [
        "X_train, X_valid, y_train, y_valid = train_test_split(train, y, test_size = 0.2, random_state = 69)"
      ],
      "metadata": {
        "execution": {
          "iopub.status.busy": "2024-07-22T11:06:53.343352Z",
          "iopub.execute_input": "2024-07-22T11:06:53.343711Z",
          "iopub.status.idle": "2024-07-22T11:06:55.251517Z",
          "shell.execute_reply.started": "2024-07-22T11:06:53.343682Z",
          "shell.execute_reply": "2024-07-22T11:06:55.250625Z"
        },
        "trusted": true,
        "id": "1UFlZ5YVKmyx"
      },
      "execution_count": null,
      "outputs": []
    },
    {
      "cell_type": "code",
      "source": [
        "gender = LabelEncoder()\n",
        "\n",
        "X_train['Gender'] = gender.fit_transform(X_train['Gender'])\n",
        "X_valid['Gender'] = gender.transform(X_valid['Gender'])\n",
        "test['Gender'] = gender.transform(test['Gender'])\n",
        "\n",
        "damaged = LabelEncoder()\n",
        "\n",
        "X_train['Vehicle_Damage'] = damaged.fit_transform(X_train['Vehicle_Damage'])\n",
        "X_valid['Vehicle_Damage'] = damaged.transform(X_valid['Vehicle_Damage'])\n",
        "test['Vehicle_Damage'] = damaged.transform(test['Vehicle_Damage'])\n",
        "\n",
        "age = LabelEncoder()\n",
        "\n",
        "X_train['Vehicle_Age'] = age.fit_transform(X_train['Vehicle_Age'])\n",
        "X_valid['Vehicle_Age'] = age.transform(X_valid['Vehicle_Age'])\n",
        "test['Vehicle_Age'] = age.transform(test['Vehicle_Age'])\n",
        "\n",
        "X_train[\"Insured_Damage\"] = pd.factorize(X_train['Previously_Insured'].astype(str) + X_train['Vehicle_Damage'].astype(str))[0]\n",
        "X_valid[\"Insured_Damage\"] = pd.factorize(X_valid['Previously_Insured'].astype(str) + X_valid['Vehicle_Damage'].astype(str))[0]\n",
        "test[\"Insured_Damage\"] = pd.factorize(test['Previously_Insured'].astype(str) + test['Vehicle_Damage'].astype(str))[0]\n",
        "\n",
        "X_train[\"Insured_Premium\"] = pd.factorize(X_train['Previously_Insured'].astype(str) + X_train['Annual_Premium'].astype(str))[0]\n",
        "X_valid[\"Insured_Premium\"] = pd.factorize(X_valid['Previously_Insured'].astype(str) + X_valid['Annual_Premium'].astype(str))[0]\n",
        "test[\"Insured_Premium\"] = pd.factorize(test['Previously_Insured'].astype(str) + test['Annual_Premium'].astype(str))[0]\n",
        "\n",
        "X_train[\"Insured_Age\"] = pd.factorize(X_train['Previously_Insured'].astype(str) + X_train['Vehicle_Age'].astype(str))[0]\n",
        "X_valid[\"Insured_Age\"] = pd.factorize(X_valid['Previously_Insured'].astype(str) + X_valid['Vehicle_Age'].astype(str))[0]\n",
        "test[\"Insured_Age\"] = pd.factorize(test['Previously_Insured'].astype(str) + test['Vehicle_Age'].astype(str))[0]"
      ],
      "metadata": {
        "execution": {
          "iopub.status.busy": "2024-07-22T11:06:57.062446Z",
          "iopub.execute_input": "2024-07-22T11:06:57.062828Z",
          "iopub.status.idle": "2024-07-22T11:07:45.214981Z",
          "shell.execute_reply.started": "2024-07-22T11:06:57.06277Z",
          "shell.execute_reply": "2024-07-22T11:07:45.214158Z"
        },
        "trusted": true,
        "id": "ix6RXz0LKmyx"
      },
      "execution_count": null,
      "outputs": []
    },
    {
      "cell_type": "code",
      "source": [
        "xgb_skf = StratifiedKFold(n_splits=10, shuffle=True, random_state = 69)\n",
        "\n",
        "xgb_valid_auc = []\n",
        "xgb_models = []\n",
        "\n",
        "for train_index, valid_index in xgb_skf.split(X_train, y_train):\n",
        "    X_train_fold, X_valid_fold = X_train.iloc[train_index], X_train.iloc[valid_index]\n",
        "    y_train_fold, y_valid_fold = y_train.iloc[train_index], y_train.iloc[valid_index]\n",
        "\n",
        "    def objective(trial):\n",
        "\n",
        "        xgb_param = {\n",
        "        'eval_metric': 'auc',\n",
        "        'reg_lambda': trial.suggest_float('lambda', 20.0, 69.0),\n",
        "        'max_depth': trial.suggest_int('max_depth', 10, 20),\n",
        "        'eta': trial.suggest_float('eta', 0.02, 0.5),\n",
        "        'subsample': trial.suggest_float('subsample', 0.69, 0.96),\n",
        "        'colsample_bylevel': trial.suggest_float('colsample_bylevel', 0.49, 0.96),\n",
        "        'colsample_bytree': trial.suggest_float('colsample_bytree', 0.49, 0.96),\n",
        "        'tree_method': 'hist',\n",
        "        'scale_pos_weight': 7.33,\n",
        "        'n_estimators': 3996,\n",
        "        'early_stopping_rounds': 196,\n",
        "        'random_state': 69,\n",
        "        'device': 'cuda',\n",
        "        'max_bin': 262146\n",
        "    }\n",
        "\n",
        "        model = XGBClassifier(**xgb_param)\n",
        "        model.fit(X_train_fold, y_train_fold, eval_set = [(X_valid_fold, y_valid_fold)], verbose = False)\n",
        "        fold_preds = model.predict_proba(X_valid_fold)[:, 1]\n",
        "        score = roc_auc_score(y_valid_fold, fold_preds)\n",
        "        return score\n",
        "\n",
        "    study = optuna.create_study(direction='maximize')\n",
        "    study.optimize(objective, n_trials=69)\n",
        "\n",
        "    best_params = study.best_params\n",
        "    best_score = study.best_value\n",
        "\n",
        "    xgb_valid_auc.append(best_score)\n",
        "    xgb_models.append(best_params)\n",
        "\n",
        "best_xgb_index = xgb_valid_auc.index(max(xgb_valid_auc))\n",
        "best_xgb_params = xgb_models[best_xgb_index]"
      ],
      "metadata": {
        "id": "PpyZbeA8Kmyy"
      },
      "execution_count": null,
      "outputs": []
    },
    {
      "cell_type": "code",
      "source": [
        "xgb_model = XGBClassifier(**best_xgb_params)\n",
        "xgb_model.fit(X_train, y_train, verbose=696)\n",
        "\n",
        "xgb_preds = xgb_model.predict_proba(test)[:, 1]"
      ],
      "metadata": {
        "id": "u1xx2qZ2Kmyy"
      },
      "execution_count": null,
      "outputs": []
    },
    {
      "cell_type": "code",
      "source": [
        "for col in X_train.columns:\n",
        "\n",
        "    X_train[col] = X_train[col].astype('category')\n",
        "    X_valid[col] = X_valid[col].astype('category')\n",
        "    test[col] = test[col].astype('category')"
      ],
      "metadata": {
        "id": "JlVKrQH6Kmyy"
      },
      "execution_count": null,
      "outputs": []
    },
    {
      "cell_type": "code",
      "source": [
        "cat_skf = StratifiedKFold(n_splits=10, shuffle=True, random_state = 69)\n",
        "\n",
        "cat_valid_auc = []\n",
        "cat_models = []\n",
        "\n",
        "for train_index, valid_index in cat_skf.split(X_train, y_train):\n",
        "    X_train_fold, X_valid_fold = X_train.iloc[train_index], X_train.iloc[valid_index]\n",
        "    y_train_fold, y_valid_fold = y_train.iloc[train_index], y_train.iloc[valid_index]\n",
        "\n",
        "    X_train_pool = Pool(X_train_fold, y_train_fold, cat_features = X_train_fold.columns.values)\n",
        "    X_valid_pool = Pool(X_valid_fold, y_valid_fold, cat_features = X_valid_fold.columns.values)\n",
        "\n",
        "    def objective(trial):\n",
        "\n",
        "        cat_param = {\n",
        "        'eval_metric': 'AUC',\n",
        "        'l2_leaf_reg': trial.suggest_float('l2_leaf_reg', 0.1, 1.0),\n",
        "        'max_depth': trial.suggest_int('max_depth', 10, 16),\n",
        "        'eta': trial.suggest_float('eta', 0.02, 0.5),\n",
        "        'n_estimators': 3996,\n",
        "        'early_stopping_rounds':96,\n",
        "        'scale_pos_weight': 7.33,\n",
        "        'task_type': 'GPU',\n",
        "        'fold_permutation_block': 64,\n",
        "        'random_state': 69,\n",
        "    }\n",
        "\n",
        "        model = CatBoostClassifier(**cat_param)\n",
        "        model.fit(X_train_pool, eval_set = X_valid_pool, verbose = False)\n",
        "        fold_preds = model.predict_proba(X_valid_fold)[:, 1]\n",
        "        score = roc_auc_score(y_valid_fold, fold_preds)\n",
        "        return score\n",
        "\n",
        "    study = optuna.create_study(direction='maximize')\n",
        "    study.optimize(objective, n_trials=69)\n",
        "\n",
        "    best_params = study.best_params\n",
        "    best_score = study.best_value\n",
        "\n",
        "    cat_valid_auc.append(best_score)\n",
        "    cat_models.append(best_params)\n",
        "\n",
        "best_cat_index = cat_valid_auc.index(max(cat_valid_auc))\n",
        "best_cat_params = cat_models[best_cat_index]"
      ],
      "metadata": {
        "id": "_ZrAMrYqKmyy"
      },
      "execution_count": null,
      "outputs": []
    },
    {
      "cell_type": "code",
      "source": [
        "cat_model = CatBoostClassifier(**best_cat_params)\n",
        "X_train_pool = Pool(X_train, y_train, cat_features=X_train.columns.values)\n",
        "cat_model.fit(X_train_pool, verbose = 696)\n",
        "\n",
        "cat_preds = cat_model.predict_proba(test)[:, 1]"
      ],
      "metadata": {
        "execution": {
          "iopub.status.busy": "2024-07-22T11:10:45.014687Z",
          "iopub.execute_input": "2024-07-22T11:10:45.015371Z",
          "iopub.status.idle": "2024-07-22T11:27:10.845656Z",
          "shell.execute_reply.started": "2024-07-22T11:10:45.015338Z",
          "shell.execute_reply": "2024-07-22T11:27:10.844709Z"
        },
        "trusted": true,
        "id": "pYdwjmnpKmyz"
      },
      "execution_count": null,
      "outputs": []
    },
    {
      "cell_type": "code",
      "source": [
        "xgb_output = pd.DataFrame({'id': test.index,'Response': xgb_preds})\n",
        "\n",
        "xgb_output.to_csv('xgb.csv', index=False)"
      ],
      "metadata": {
        "execution": {
          "iopub.status.busy": "2024-07-20T18:05:07.851933Z",
          "iopub.execute_input": "2024-07-20T18:05:07.852293Z",
          "iopub.status.idle": "2024-07-20T18:06:14.411702Z",
          "shell.execute_reply.started": "2024-07-20T18:05:07.852265Z",
          "shell.execute_reply": "2024-07-20T18:06:14.410902Z"
        },
        "trusted": true,
        "id": "C9MLDLUlKmyz"
      },
      "execution_count": null,
      "outputs": []
    },
    {
      "cell_type": "code",
      "source": [
        "cat_output = pd.DataFrame({'id': test.index,'Response': cat_preds})\n",
        "\n",
        "cat_output.to_csv('cat.csv', index=False)"
      ],
      "metadata": {
        "id": "MCae32H-Kmyz"
      },
      "execution_count": null,
      "outputs": []
    }
  ]
}